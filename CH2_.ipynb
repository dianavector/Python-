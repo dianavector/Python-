{
  "nbformat": 4,
  "nbformat_minor": 0,
  "metadata": {
    "colab": {
      "provenance": [],
      "collapsed_sections": []
    },
    "kernelspec": {
      "name": "python3",
      "display_name": "Python 3"
    },
    "language_info": {
      "name": "python"
    }
  },
  "cells": [
    {
      "cell_type": "code",
      "execution_count": null,
      "metadata": {
        "colab": {
          "base_uri": "https://localhost:8080/"
        },
        "id": "AclruVx5ROW8",
        "outputId": "0ebba4bc-a2fb-4a09-89b0-20e84d7a65e6"
      },
      "outputs": [
        {
          "output_type": "stream",
          "name": "stdout",
          "text": [
            "2\n",
            "6\n",
            "36\n"
          ]
        }
      ],
      "source": [
        "x=[2,3,6]           #1\n",
        "sum=1\n",
        "for i in x:\n",
        "  sum=sum*i\n",
        "  print(sum)\n",
        "\n",
        "\n",
        "\n"
      ]
    },
    {
      "cell_type": "code",
      "source": [
        "x=[(2,5),(1,2),(4,4),(2,3),(2,1)]  #Q2\n",
        "for k in range(len(x)-1):\n",
        "  for i in range(len(x)-1):\n",
        "    if x[i][1]>x[i+1][1]:\n",
        "      x[i],x[i+1]=x[i+1],x[i]\n",
        "      print(x) "
      ],
      "metadata": {
        "colab": {
          "base_uri": "https://localhost:8080/"
        },
        "id": "P8dFWBDARlct",
        "outputId": "d6121577-8c54-44f5-a660-e412b57b73fa"
      },
      "execution_count": null,
      "outputs": [
        {
          "output_type": "stream",
          "name": "stdout",
          "text": [
            "[(1, 2), (2, 5), (4, 4), (2, 3), (2, 1)]\n",
            "[(1, 2), (4, 4), (2, 5), (2, 3), (2, 1)]\n",
            "[(1, 2), (4, 4), (2, 3), (2, 5), (2, 1)]\n",
            "[(1, 2), (4, 4), (2, 3), (2, 1), (2, 5)]\n",
            "[(1, 2), (2, 3), (4, 4), (2, 1), (2, 5)]\n",
            "[(1, 2), (2, 3), (2, 1), (4, 4), (2, 5)]\n",
            "[(1, 2), (2, 1), (2, 3), (4, 4), (2, 5)]\n",
            "[(2, 1), (1, 2), (2, 3), (4, 4), (2, 5)]\n"
          ]
        }
      ]
    },
    {
      "cell_type": "code",
      "source": [
        "x=[('item1','12.20'),('item2','15.10'),('item3','24.5')]  #Q5\n",
        "for k in range(len(x)-1):\n",
        "  for i in range(len(x)-1):   \n",
        "   x[i],x[i+1]=x[i+1],x[i]\n",
        "  print(x)\n"
      ],
      "metadata": {
        "colab": {
          "base_uri": "https://localhost:8080/"
        },
        "id": "JPPYe-WLcg3g",
        "outputId": "7ec7e7ec-c64f-4aa4-92d2-7bb986a48983"
      },
      "execution_count": null,
      "outputs": [
        {
          "output_type": "stream",
          "name": "stdout",
          "text": [
            "[('item2', '15.10'), ('item3', '24.5'), ('item1', '12.20')]\n",
            "[('item3', '24.5'), ('item1', '12.20'), ('item2', '15.10')]\n"
          ]
        }
      ]
    },
    {
      "cell_type": "code",
      "source": [
        "d1 = {'a': 100, 'b': 200, 'c':300}    #Q3\n",
        "\n",
        "d2 = {'a': 300, 'b': 200, 'd':400}\n",
        "for x in d1:\n",
        "  if x in d2:\n",
        "    d2[x]=d1[x]+d2[x]\n",
        "else:\n",
        "      d2[x]=d1[x]\n",
        "      print(d2)\n"
      ],
      "metadata": {
        "colab": {
          "base_uri": "https://localhost:8080/"
        },
        "id": "7WFwmvMggM98",
        "outputId": "44fd1aab-844b-4528-b0b2-bbad639b8877"
      },
      "execution_count": null,
      "outputs": [
        {
          "output_type": "stream",
          "name": "stdout",
          "text": [
            "{'a': 400, 'b': 400, 'd': 400, 'c': 300}\n"
          ]
        }
      ]
    },
    {
      "cell_type": "code",
      "source": [
        "n=int(input(\"enter a number\"))\n",
        "dict={}\n",
        "for i in range (1,n+1):    #  Q4\n",
        "  dict[i]=i*i\n",
        "print (dict)"
      ],
      "metadata": {
        "colab": {
          "base_uri": "https://localhost:8080/"
        },
        "id": "Xht11KQEizfY",
        "outputId": "5091d678-f65a-4fd6-8472-df9c2932a250"
      },
      "execution_count": null,
      "outputs": [
        {
          "output_type": "stream",
          "name": "stdout",
          "text": [
            "enter a number8\n",
            "{1: 1, 2: 4, 3: 9, 4: 16, 5: 25, 6: 36, 7: 49, 8: 64}\n"
          ]
        }
      ]
    }
  ]
}