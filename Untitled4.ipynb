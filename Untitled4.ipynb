{
  "nbformat": 4,
  "nbformat_minor": 0,
  "metadata": {
    "colab": {
      "name": "Untitled4.ipynb",
      "provenance": [],
      "collapsed_sections": []
    },
    "kernelspec": {
      "name": "python3",
      "display_name": "Python 3"
    },
    "language_info": {
      "name": "python"
    }
  },
  "cells": [
    {
      "cell_type": "code",
      "execution_count": 3,
      "metadata": {
        "colab": {
          "base_uri": "https://localhost:8080/"
        },
        "id": "MiZGiDnhH_JM",
        "outputId": "3197ee9d-1a86-4044-cdbd-424c4ebdffee"
      },
      "outputs": [
        {
          "output_type": "stream",
          "name": "stdout",
          "text": [
            "Ahmed Diaa\n",
            "Diaa Ahmed\n"
          ]
        }
      ],
      "source": [
        "x=(\"Ahmed\")\n",
        "y=(\"Diaa\")\n",
        "print(x,y)\n",
        "print(y,x) #question 1"
      ]
    },
    {
      "cell_type": "code",
      "source": [
        ""
      ],
      "metadata": {
        "id": "FjWl6Pv1wmvF"
      },
      "execution_count": null,
      "outputs": []
    },
    {
      "cell_type": "code",
      "source": [
        "str1 = input()\n",
        "str2 = str1 + str1\n",
        "str3 = str1 + str1+ str1\n",
        "print(float(str1)+float(str2)+ float(str3) ) #question 2\n",
        "\n"
      ],
      "metadata": {
        "colab": {
          "base_uri": "https://localhost:8080/"
        },
        "id": "rhLSCS8KI1tF",
        "outputId": "0ee6c192-c8ca-4687-aa3b-4d0fefb9ef6a"
      },
      "execution_count": 12,
      "outputs": [
        {
          "output_type": "stream",
          "name": "stdout",
          "text": [
            "5\n",
            "615.0\n"
          ]
        }
      ]
    },
    {
      "cell_type": "code",
      "source": [
        "x=int(input())\n",
        "if x>=500:\n",
        "  print(\"there will be discount 50%  \",x * 0.5)\n",
        "elif x>=200 and x<500:\n",
        "  print(\"there will be discount 30%\" ,x*0.7 ) # question 7\n",
        "else:\n",
        "  print(\"there will be discount 10%\" ,x*0.9)\n",
        "\n"
      ],
      "metadata": {
        "colab": {
          "base_uri": "https://localhost:8080/"
        },
        "id": "dx6A45ogLjch",
        "outputId": "31d7dfcf-649a-442c-fc3f-1ff5e5814afd"
      },
      "execution_count": 26,
      "outputs": [
        {
          "output_type": "stream",
          "name": "stdout",
          "text": [
            "100\n",
            "there will be discount 10% 90.0\n"
          ]
        }
      ]
    },
    {
      "cell_type": "code",
      "source": [
        "x= int(input())\n",
        "if x%2 == 0: \n",
        " print(\"true\")  #question3\n",
        "elif x%2 !=0:\n",
        " print(\"false\")"
      ],
      "metadata": {
        "colab": {
          "base_uri": "https://localhost:8080/"
        },
        "id": "3cNIfWPZjSsI",
        "outputId": "c22038e4-5df9-4360-9e62-95791d66c203"
      },
      "execution_count": 35,
      "outputs": [
        {
          "output_type": "stream",
          "name": "stdout",
          "text": [
            "3\n",
            "false\n"
          ]
        }
      ]
    },
    {
      "cell_type": "code",
      "source": [
        "for i in range(2000,3201):\n",
        "  if i %7 ==0 and i%5 !=0:\n",
        "    print(i,end =\",\")       #question 4\n",
        "\n",
        " "
      ],
      "metadata": {
        "colab": {
          "base_uri": "https://localhost:8080/"
        },
        "id": "RSyEu1u4oOza",
        "outputId": "809e0984-4d98-4c3b-cac7-fa463e51eb8d"
      },
      "execution_count": 38,
      "outputs": [
        {
          "output_type": "stream",
          "name": "stdout",
          "text": [
            "2002,2009,2016,2023,2037,2044,2051,2058,2072,2079,2086,2093,2107,2114,2121,2128,2142,2149,2156,2163,2177,2184,2191,2198,2212,2219,2226,2233,2247,2254,2261,2268,2282,2289,2296,2303,2317,2324,2331,2338,2352,2359,2366,2373,2387,2394,2401,2408,2422,2429,2436,2443,2457,2464,2471,2478,2492,2499,2506,2513,2527,2534,2541,2548,2562,2569,2576,2583,2597,2604,2611,2618,2632,2639,2646,2653,2667,2674,2681,2688,2702,2709,2716,2723,2737,2744,2751,2758,2772,2779,2786,2793,2807,2814,2821,2828,2842,2849,2856,2863,2877,2884,2891,2898,2912,2919,2926,2933,2947,2954,2961,2968,2982,2989,2996,3003,3017,3024,3031,3038,3052,3059,3066,3073,3087,3094,3101,3108,3122,3129,3136,3143,3157,3164,3171,3178,3192,3199,"
          ]
        }
      ]
    },
    {
      "cell_type": "code",
      "source": [
        "x=int(input())\n",
        "n=1\n",
        "for i in range (x): \n",
        "  n= n *(i+1)\n",
        "print(n)  #question 5"
      ],
      "metadata": {
        "colab": {
          "base_uri": "https://localhost:8080/"
        },
        "id": "eAIPm81Iqpqy",
        "outputId": "98baf9a8-6834-4b9d-f14e-21674176d697"
      },
      "execution_count": 45,
      "outputs": [
        {
          "output_type": "stream",
          "name": "stdout",
          "text": [
            "5\n",
            "120\n"
          ]
        }
      ]
    },
    {
      "cell_type": "code",
      "source": [
        ""
      ],
      "metadata": {
        "id": "CdFXyZOlnAmA"
      },
      "execution_count": 44,
      "outputs": []
    },
    {
      "cell_type": "code",
      "source": [
        "str1= \"hello team\"\n",
        "h = \"\"\n",
        "for x in range(len(str1)):   #question 6\n",
        "  if x % 2 == 0:\n",
        "    h = h + str1[x]\n",
        "\n",
        "print(h)"
      ],
      "metadata": {
        "colab": {
          "base_uri": "https://localhost:8080/"
        },
        "id": "cLITUhhRtxEt",
        "outputId": "c27c8e8b-a82d-4e36-ae6b-c6f3a8afebe9"
      },
      "execution_count": 46,
      "outputs": [
        {
          "output_type": "stream",
          "name": "stdout",
          "text": [
            "hlota\n"
          ]
        }
      ]
    },
    {
      "cell_type": "code",
      "source": [
        ""
      ],
      "metadata": {
        "id": "JbG8_S_9wT2N"
      },
      "execution_count": null,
      "outputs": []
    }
  ]
}